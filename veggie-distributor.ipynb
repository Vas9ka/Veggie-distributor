{
 "cells": [
  {
   "cell_type": "markdown",
   "metadata": {},
   "source": [
    "Имеется окружность фиксированного диаметра, необходимо разместить в ней эллипсы (соотношение между большим и меньшим радиусами и массой эллипса фиксировано, а вот значение самой массы распределено по нормальному закону), расположив их так, чтобы они заняли как можно больше площади (необязательно искать оптимальное расположение, можно приблизительное). Все это касается первого слоя, а всего их два. Второй слой строится также как и первый, но центры масс эллипсов второго уровня должны находиться приблизительно там же, где находится центр масс треугольника образованного 3 центрами масс эллипсов первого уровня. Иными словами, эллипсы второго слое будет лежать в углублениях, образованных первым слоем. Небходимо получить какое-то количество таких комбинаций. Затем разбить окружность на 8 равных частей (секторов) и посчитать какая масса приходится на каждый сектор.\n",
    "\n",
    "Входные данные: масса дозы (3 кг), масса в бункере (24 кг), диаметр окружности (735 мм), соотношение между большими и меньшими радиусами эллипсов (2), соотношение между массами и большими радиусами эллипсов (2), масса средней картошки (192 гр), среднеквадратическое отклонение (73).\n",
    "Выходные данные: масса на каждом секторе или абсолютное значение погрешности.\n",
    "\n",
    "Справочный параметр: в одном слое получается приблизительно 51 средняя картошка."
   ]
  },
  {
   "cell_type": "code",
   "execution_count": 124,
   "metadata": {},
   "outputs": [],
   "source": [
    "import numpy as np\n",
    "import matplotlib.pyplot as plt\n",
    "import matplotlib.patches as pat\n",
    "import math"
   ]
  },
  {
   "cell_type": "code",
   "execution_count": 125,
   "metadata": {},
   "outputs": [],
   "source": [
    "class Ellipse(object):\n",
    "    def __init__(self,big_axis):\n",
    "        self.big_axis = big_axis \n",
    "        self.small_axis = (big_axis / 2) \n",
    "    \n",
    "    "
   ]
  },
  {
   "cell_type": "code",
   "execution_count": 126,
   "metadata": {},
   "outputs": [
    {
     "data": {
      "text/plain": [
       "array([119.9904447 , 292.05650638, 189.34937453, 159.18162236,\n",
       "       200.52610084, 158.51755431,  46.04413112, 227.99895805,\n",
       "       116.63409387,  21.10888563, 287.55204797, 172.08446764,\n",
       "       244.74671073, 226.36804249, 349.76126297,  67.78753448,\n",
       "       125.47980164, 164.52284786, 247.21447447, 177.48371193,\n",
       "       225.16187976, 152.03235059, 247.50568822, 188.352622  ,\n",
       "       262.98629047, 219.94236502, 160.29185323,  -3.80265225,\n",
       "       189.63807145, 205.54628428, 196.55351332, 149.0356914 ,\n",
       "       227.55191226,  76.98321856, 199.20327679, 347.46217293,\n",
       "       174.13545571, 247.91663634, 184.34620002, 102.33409504,\n",
       "        72.37461576, 194.83642166, 329.08024987, 283.19842054,\n",
       "       -32.06103369, 233.14117347, 138.95354295, 208.45860893,\n",
       "       147.69717436, 159.29206239])"
      ]
     },
     "execution_count": 126,
     "metadata": {},
     "output_type": "execute_result"
    }
   ],
   "source": [
    "Potatoes = []\n",
    "mu = 192\n",
    "sigma = 73\n",
    "s = np.random.normal(mu,sigma,50)\n",
    "s"
   ]
  },
  {
   "cell_type": "code",
   "execution_count": 127,
   "metadata": {},
   "outputs": [],
   "source": [
    "for x in range(len(s)):\n",
    "    Potatoes.append(Ellipse(s[x]/2))\n"
   ]
  },
  {
   "cell_type": "code",
   "execution_count": 128,
   "metadata": {},
   "outputs": [],
   "source": [
    "def intersect(x,y,big_axis,small_axis):\n",
    "        if((x ** 2 / big_axis ** 2 + y ** 2 / small_axis ** 2) > 1):\n",
    "            return True\n",
    "        return False"
   ]
  },
  {
   "cell_type": "code",
   "execution_count": 142,
   "metadata": {},
   "outputs": [
    {
     "name": "stdout",
     "output_type": "stream",
     "text": [
      "0 0\n",
      "0 3\n",
      "3 9\n",
      "9 13\n",
      "13 20\n",
      "20 27\n",
      "27 34\n",
      "34 41\n",
      "41 47\n"
     ]
    },
    {
     "data": {
      "text/plain": [
       "50"
      ]
     },
     "execution_count": 142,
     "metadata": {},
     "output_type": "execute_result"
    },
    {
     "data": {
      "image/png": "[encoded data removed]",
      "text/plain": [
       "<Figure size 432x288 with 1 Axes>"
      ]
     },
     "metadata": {
      "needs_background": "light"
     },
     "output_type": "display_data"
    }
   ],
   "source": [
    "r = 350\n",
    "circle = pat.Circle((0,0), radius= r)\n",
    "fig,ax = plt.subplots(subplot_kw={'aspect': 'equal'})\n",
    "ax.add_artist(circle)\n",
    "circle.set_facecolor(\"yellow\")\n",
    "x = -r\n",
    "y = -r + Potatoes[0].small_axis/2\n",
    "while(x ** 2 + y ** 2 > r ** 2):\n",
    "    x += 0.1\n",
    "x += Potatoes[0].big_axis/2\n",
    "ax.set_xlim(-r,r)\n",
    "ax.set_ylim(-r,r)\n",
    "j = 1\n",
    "i = 0\n",
    "finish = 0\n",
    "start = 0\n",
    "while i < len(Potatoes) - 1:\n",
    "    if(finish != 0):\n",
    "        for ellipse in ax.artists[start+1:finish+1]:\n",
    "            while(y < ellipse.center[1] + ellipse.height):\n",
    "                y += 0.1\n",
    "             \n",
    "    ellipse = pat.Ellipse(xy = (x,y),width = Potatoes[i].big_axis,height = Potatoes[i].small_axis)\n",
    "    ax.add_artist(ellipse)\n",
    "    ellipse.set_facecolor(\"brown\")\n",
    "    x += (Potatoes[i].big_axis + Potatoes[i+1].big_axis) / 2\n",
    "    if((x + (Potatoes[i+1].big_axis) / 2) ** 2 + y ** 2 >= r ** 2):\n",
    "        x = -r\n",
    "        start = finish\n",
    "        finish = i\n",
    "        print start,finish\n",
    "        while(x** 2 + (y+ax.artists[j].height) ** 2 >= r ** 2):\n",
    "            x += 0.1\n",
    "        if((y + ax.artists[j].height / 2) ** 2 >= r ** 2):\n",
    "            break\n",
    "        x += Potatoes[i].big_axis / 2\n",
    "        y += ax.artists[j].height\n",
    "    i += 1\n",
    "    j += 1\n",
    "len(ax.artists)\n"
   ]
  },
  {
   "cell_type": "markdown",
   "metadata": {},
   "source": []
  },
  {
   "cell_type": "code",
   "execution_count": null,
   "metadata": {},
   "outputs": [],
   "source": []
  }
 ],
 "metadata": {
  "kernelspec": {
   "display_name": "Python 2",
   "language": "python",
   "name": "python2"
  },
  "language_info": {
   "codemirror_mode": {
    "name": "ipython",
    "version": 2
   },
   "file_extension": ".py",
   "mimetype": "text/x-python",
   "name": "python",
   "nbconvert_exporter": "python",
   "pygments_lexer": "ipython2",
   "version": "2.7.16"
  }
 },
 "nbformat": 4,
 "nbformat_minor": 2
}
